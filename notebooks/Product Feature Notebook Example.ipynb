{
 "cells": [
  {
   "cell_type": "code",
   "execution_count": 1,
   "metadata": {
    "collapsed": true
   },
   "outputs": [],
   "source": [
    "import gzip\n",
    "import numpy as np\n",
    "import pandas as pd \n",
    "import matplotlib.pyplot as plt\n",
    "import seaborn as sns\n",
    "import nltk\n",
    "import urllib.request\n",
    "import io\n",
    "from nltk import tokenize"
   ]
  },
  {
   "cell_type": "markdown",
   "metadata": {},
   "source": [
    "# Amazon Review Data"
   ]
  },
  {
   "cell_type": "markdown",
   "metadata": {},
   "source": [
    "Data downloaded from http://jmcauley.ucsd.edu/data/amazon/links.html\n",
    "\n",
    "R. He, J. McAuley. Modeling the visual evolution of fashion trends with one-class collaborative filtering. WWW, 2016\n",
    "\n",
    "\n",
    "J. McAuley, C. Targett, J. Shi, A. van den Hengel. Image-based recommendations on styles and substitutes. SIGIR, 2015"
   ]
  },
  {
   "cell_type": "markdown",
   "metadata": {},
   "source": [
    "## Read data into pandas dataframe"
   ]
  },
  {
   "cell_type": "code",
   "execution_count": 2,
   "metadata": {
    "collapsed": true
   },
   "outputs": [],
   "source": [
    "# Update path given user's local directory structure\n",
    "path = r'/Users/annielane/Documents/MIDS/W266/w266-final-project/data/raw/amazon/reviews_Office_Products_5.json.gz'"
   ]
  },
  {
   "cell_type": "markdown",
   "metadata": {},
   "source": [
    "### Parsing function"
   ]
  },
  {
   "cell_type": "code",
   "execution_count": 3,
   "metadata": {
    "collapsed": true
   },
   "outputs": [],
   "source": [
    "def parse(path): \n",
    "    g = gzip.open(path, 'rb') \n",
    "    for l in g: \n",
    "        yield eval(l) "
   ]
  },
  {
   "cell_type": "markdown",
   "metadata": {},
   "source": [
    "### Read into dataframe"
   ]
  },
  {
   "cell_type": "code",
   "execution_count": 4,
   "metadata": {
    "collapsed": true
   },
   "outputs": [],
   "source": [
    "def getDF(path): \n",
    "    i = 0 \n",
    "    df = {} \n",
    "    for d in parse(path): \n",
    "        df[i] = d \n",
    "        i += 1\n",
    "    return pd.DataFrame.from_dict(df, orient='index').rename(columns={'reviewTime': 'reviewDate'})"
   ]
  },
  {
   "cell_type": "markdown",
   "metadata": {},
   "source": [
    "### Reviews into Dataframe"
   ]
  },
  {
   "cell_type": "code",
   "execution_count": 5,
   "metadata": {},
   "outputs": [
    {
     "data": {
      "text/html": [
       "<div>\n",
       "<style>\n",
       "    .dataframe thead tr:only-child th {\n",
       "        text-align: right;\n",
       "    }\n",
       "\n",
       "    .dataframe thead th {\n",
       "        text-align: left;\n",
       "    }\n",
       "\n",
       "    .dataframe tbody tr th {\n",
       "        vertical-align: top;\n",
       "    }\n",
       "</style>\n",
       "<table border=\"1\" class=\"dataframe\">\n",
       "  <thead>\n",
       "    <tr style=\"text-align: right;\">\n",
       "      <th></th>\n",
       "      <th>reviewerID</th>\n",
       "      <th>asin</th>\n",
       "      <th>reviewerName</th>\n",
       "      <th>helpful</th>\n",
       "      <th>reviewText</th>\n",
       "      <th>overall</th>\n",
       "      <th>summary</th>\n",
       "      <th>unixReviewTime</th>\n",
       "      <th>reviewDate</th>\n",
       "    </tr>\n",
       "  </thead>\n",
       "  <tbody>\n",
       "    <tr>\n",
       "      <th>0</th>\n",
       "      <td>A32T2H8150OJLU</td>\n",
       "      <td>B00000JBLH</td>\n",
       "      <td>ARH</td>\n",
       "      <td>[3, 4]</td>\n",
       "      <td>I bought my first HP12C in about 1984 or so, a...</td>\n",
       "      <td>5.0</td>\n",
       "      <td>A solid performer, and long time friend</td>\n",
       "      <td>1094169600</td>\n",
       "      <td>09 3, 2004</td>\n",
       "    </tr>\n",
       "    <tr>\n",
       "      <th>1</th>\n",
       "      <td>A3MAFS04ZABRGO</td>\n",
       "      <td>B00000JBLH</td>\n",
       "      <td>Let it Be \"Alan\"</td>\n",
       "      <td>[7, 9]</td>\n",
       "      <td>WHY THIS BELATED REVIEW? I feel very obliged t...</td>\n",
       "      <td>5.0</td>\n",
       "      <td>Price of GOLD is up, so don't bury the golden ...</td>\n",
       "      <td>1197676800</td>\n",
       "      <td>12 15, 2007</td>\n",
       "    </tr>\n",
       "    <tr>\n",
       "      <th>2</th>\n",
       "      <td>A1F1A0QQP2XVH5</td>\n",
       "      <td>B00000JBLH</td>\n",
       "      <td>Mark B</td>\n",
       "      <td>[3, 3]</td>\n",
       "      <td>I have an HP 48GX that has been kicking for mo...</td>\n",
       "      <td>2.0</td>\n",
       "      <td>Good functionality, but not durable like old HPs</td>\n",
       "      <td>1293840000</td>\n",
       "      <td>01 1, 2011</td>\n",
       "    </tr>\n",
       "    <tr>\n",
       "      <th>3</th>\n",
       "      <td>A49R5DBXXQDE5</td>\n",
       "      <td>B00000JBLH</td>\n",
       "      <td>R. D Johnson</td>\n",
       "      <td>[7, 8]</td>\n",
       "      <td>I've started doing more finance stuff recently...</td>\n",
       "      <td>5.0</td>\n",
       "      <td>One of the last of an almost extinct species</td>\n",
       "      <td>1145404800</td>\n",
       "      <td>04 19, 2006</td>\n",
       "    </tr>\n",
       "    <tr>\n",
       "      <th>4</th>\n",
       "      <td>A2XRMQA6PJ5ZJ8</td>\n",
       "      <td>B00000JBLH</td>\n",
       "      <td>Roger J. Buffington</td>\n",
       "      <td>[0, 0]</td>\n",
       "      <td>For simple calculations and discounted cash fl...</td>\n",
       "      <td>5.0</td>\n",
       "      <td>Still the best</td>\n",
       "      <td>1375574400</td>\n",
       "      <td>08 4, 2013</td>\n",
       "    </tr>\n",
       "  </tbody>\n",
       "</table>\n",
       "</div>"
      ],
      "text/plain": [
       "       reviewerID        asin         reviewerName helpful  \\\n",
       "0  A32T2H8150OJLU  B00000JBLH                  ARH  [3, 4]   \n",
       "1  A3MAFS04ZABRGO  B00000JBLH     Let it Be \"Alan\"  [7, 9]   \n",
       "2  A1F1A0QQP2XVH5  B00000JBLH               Mark B  [3, 3]   \n",
       "3   A49R5DBXXQDE5  B00000JBLH         R. D Johnson  [7, 8]   \n",
       "4  A2XRMQA6PJ5ZJ8  B00000JBLH  Roger J. Buffington  [0, 0]   \n",
       "\n",
       "                                          reviewText  overall  \\\n",
       "0  I bought my first HP12C in about 1984 or so, a...      5.0   \n",
       "1  WHY THIS BELATED REVIEW? I feel very obliged t...      5.0   \n",
       "2  I have an HP 48GX that has been kicking for mo...      2.0   \n",
       "3  I've started doing more finance stuff recently...      5.0   \n",
       "4  For simple calculations and discounted cash fl...      5.0   \n",
       "\n",
       "                                             summary  unixReviewTime  \\\n",
       "0            A solid performer, and long time friend      1094169600   \n",
       "1  Price of GOLD is up, so don't bury the golden ...      1197676800   \n",
       "2   Good functionality, but not durable like old HPs      1293840000   \n",
       "3       One of the last of an almost extinct species      1145404800   \n",
       "4                                     Still the best      1375574400   \n",
       "\n",
       "    reviewDate  \n",
       "0   09 3, 2004  \n",
       "1  12 15, 2007  \n",
       "2   01 1, 2011  \n",
       "3  04 19, 2006  \n",
       "4   08 4, 2013  "
      ]
     },
     "execution_count": 5,
     "metadata": {},
     "output_type": "execute_result"
    }
   ],
   "source": [
    "df = getDF(path)\n",
    "df.head()"
   ]
  },
  {
   "cell_type": "code",
   "execution_count": 6,
   "metadata": {
    "collapsed": true
   },
   "outputs": [],
   "source": [
    "products = df.asin.unique()"
   ]
  },
  {
   "cell_type": "code",
   "execution_count": 7,
   "metadata": {},
   "outputs": [
    {
     "data": {
      "text/plain": [
       "2420"
      ]
     },
     "execution_count": 7,
     "metadata": {},
     "output_type": "execute_result"
    }
   ],
   "source": [
    "len(products)"
   ]
  },
  {
   "cell_type": "code",
   "execution_count": 8,
   "metadata": {},
   "outputs": [
    {
     "data": {
      "text/plain": [
       "B0010T3QT2    311\n",
       "B0039N7ELS    227\n",
       "B0027CTFBO    205\n",
       "B0039N3QFQ    186\n",
       "B002K9M6OW    185\n",
       "B000MFHX3U    185\n",
       "B0039N3QO2    182\n",
       "B002K9GOPE    182\n",
       "B002K9IHJK    180\n",
       "B003FHBPRM    178\n",
       "B002K9PIKG    176\n",
       "B000WU4H5C    176\n",
       "B002K9XU0Q    175\n",
       "B002K9M7MS    173\n",
       "B0035FX5MC    173\n",
       "B000XSPEPA    167\n",
       "B002ECFIDG    163\n",
       "B008DF54N2    156\n",
       "B0009F3P3U    153\n",
       "B001PV36V8    151\n",
       "B003FHF98S    146\n",
       "B008I213WQ    144\n",
       "B0026ICM1E    142\n",
       "B0000538AC    141\n",
       "B00G411O8G    131\n",
       "B002M7VZXA    127\n",
       "B002NU5ND4    123\n",
       "B004YGBIVQ    122\n",
       "B004ZKXC2O    122\n",
       "B004O49F7M    121\n",
       "             ... \n",
       "B001F0RI1I      5\n",
       "B00D4OUFF4      5\n",
       "B00450N5BM      5\n",
       "B000KJRRBQ      5\n",
       "B0006IEV60      5\n",
       "B00004Z47L      5\n",
       "B001E641P4      5\n",
       "B0041OWIRO      5\n",
       "B001S2PKP4      5\n",
       "B001A4X296      5\n",
       "B0036D5XGO      5\n",
       "B004JQPEBQ      5\n",
       "B001S2PKFY      5\n",
       "B003VNIL90      5\n",
       "B000V7N810      5\n",
       "B002BA5WK0      5\n",
       "B004H4EBHI      5\n",
       "B004XLBL96      5\n",
       "B001B09BX0      5\n",
       "B0049FVB2I      5\n",
       "B0006OKKN2      5\n",
       "B0000C9ZJY      5\n",
       "B00135HSI8      5\n",
       "B0006HVU8S      5\n",
       "B006LTTHNA      5\n",
       "B000BQL8E0      5\n",
       "B00916V6MA      5\n",
       "B004CVKXHS      5\n",
       "B00006IFHJ      5\n",
       "B002B2L7O8      5\n",
       "Name: asin, Length: 2420, dtype: int64"
      ]
     },
     "execution_count": 8,
     "metadata": {},
     "output_type": "execute_result"
    }
   ],
   "source": [
    "df['asin'].value_counts()"
   ]
  },
  {
   "cell_type": "markdown",
   "metadata": {},
   "source": [
    "### Look at particular product example"
   ]
  },
  {
   "cell_type": "code",
   "execution_count": 9,
   "metadata": {},
   "outputs": [
    {
     "data": {
      "text/plain": [
       "(41, 9)"
      ]
     },
     "execution_count": 9,
     "metadata": {},
     "output_type": "execute_result"
    }
   ],
   "source": [
    "# Five Star Flex Hybrid NoteBinder = B003O3F2R6\n",
    "df_example = df.loc[df['asin'].str.contains('B003O3F2R6')]\n",
    "df_example.shape"
   ]
  },
  {
   "cell_type": "code",
   "execution_count": 10,
   "metadata": {},
   "outputs": [
    {
     "data": {
      "text/plain": [
       "count    41.000000\n",
       "mean      4.365854\n",
       "std       0.766684\n",
       "min       2.000000\n",
       "25%       4.000000\n",
       "50%       5.000000\n",
       "75%       5.000000\n",
       "max       5.000000\n",
       "Name: overall, dtype: float64"
      ]
     },
     "execution_count": 10,
     "metadata": {},
     "output_type": "execute_result"
    }
   ],
   "source": [
    "df_example['overall'].describe()"
   ]
  },
  {
   "cell_type": "code",
   "execution_count": 11,
   "metadata": {},
   "outputs": [
    {
     "data": {
      "text/plain": [
       "count      41.000000\n",
       "mean      248.707317\n",
       "std       249.345167\n",
       "min        43.000000\n",
       "25%        96.000000\n",
       "50%       167.000000\n",
       "75%       269.000000\n",
       "max      1401.000000\n",
       "Name: reviewText, dtype: float64"
      ]
     },
     "execution_count": 11,
     "metadata": {},
     "output_type": "execute_result"
    }
   ],
   "source": [
    "# Stats on length of reviews \n",
    "df_example['reviewText'].str.len()\n",
    "df_example['reviewText'].str.split().apply(len).describe()"
   ]
  },
  {
   "cell_type": "code",
   "execution_count": 13,
   "metadata": {},
   "outputs": [
    {
     "data": {
      "text/html": [
       "<div>\n",
       "<style>\n",
       "    .dataframe thead tr:only-child th {\n",
       "        text-align: right;\n",
       "    }\n",
       "\n",
       "    .dataframe thead th {\n",
       "        text-align: left;\n",
       "    }\n",
       "\n",
       "    .dataframe tbody tr th {\n",
       "        vertical-align: top;\n",
       "    }\n",
       "</style>\n",
       "<table border=\"1\" class=\"dataframe\">\n",
       "  <thead>\n",
       "    <tr style=\"text-align: right;\">\n",
       "      <th></th>\n",
       "      <th>reviewerID</th>\n",
       "      <th>asin</th>\n",
       "      <th>reviewerName</th>\n",
       "      <th>helpful</th>\n",
       "      <th>reviewText</th>\n",
       "      <th>overall</th>\n",
       "      <th>summary</th>\n",
       "      <th>unixReviewTime</th>\n",
       "      <th>reviewDate</th>\n",
       "    </tr>\n",
       "  </thead>\n",
       "  <tbody>\n",
       "    <tr>\n",
       "      <th>29549</th>\n",
       "      <td>A4QXTN3K865NR</td>\n",
       "      <td>B003O3F2R6</td>\n",
       "      <td>aar! \"aar!\"</td>\n",
       "      <td>[1, 1]</td>\n",
       "      <td>The manufacturer, Mead describes the one inch ...</td>\n",
       "      <td>5.0</td>\n",
       "      <td>Best Notebook/Binder Ever</td>\n",
       "      <td>1401235200</td>\n",
       "      <td>05 28, 2014</td>\n",
       "    </tr>\n",
       "    <tr>\n",
       "      <th>29550</th>\n",
       "      <td>AD0WUBKBO21KK</td>\n",
       "      <td>B003O3F2R6</td>\n",
       "      <td>Amazon Customer</td>\n",
       "      <td>[1, 1]</td>\n",
       "      <td>I like the nylon spine on this binder, which e...</td>\n",
       "      <td>2.0</td>\n",
       "      <td>Seemed great until bits started breaking off....</td>\n",
       "      <td>1401580800</td>\n",
       "      <td>06 1, 2014</td>\n",
       "    </tr>\n",
       "    <tr>\n",
       "      <th>29551</th>\n",
       "      <td>A3T4OHEAHOJ700</td>\n",
       "      <td>B003O3F2R6</td>\n",
       "      <td>B. Colonna</td>\n",
       "      <td>[1, 1]</td>\n",
       "      <td>It is hard to get excited over a binder or not...</td>\n",
       "      <td>4.0</td>\n",
       "      <td>Half A Notebook, Half A Binder = A Fun, But A ...</td>\n",
       "      <td>1403827200</td>\n",
       "      <td>06 27, 2014</td>\n",
       "    </tr>\n",
       "    <tr>\n",
       "      <th>29552</th>\n",
       "      <td>A2FLJCJ3SW0TUY</td>\n",
       "      <td>B003O3F2R6</td>\n",
       "      <td>Brie \"Brie\"</td>\n",
       "      <td>[1, 1]</td>\n",
       "      <td>I'm reviewing the blue hybrid notebinder, whic...</td>\n",
       "      <td>4.0</td>\n",
       "      <td>Love the design, but costly.</td>\n",
       "      <td>1403308800</td>\n",
       "      <td>06 21, 2014</td>\n",
       "    </tr>\n",
       "    <tr>\n",
       "      <th>29553</th>\n",
       "      <td>AYNAH993VDECT</td>\n",
       "      <td>B003O3F2R6</td>\n",
       "      <td>bsg2004</td>\n",
       "      <td>[1, 1]</td>\n",
       "      <td>This is a smart idea for a hybrid notepad-bind...</td>\n",
       "      <td>5.0</td>\n",
       "      <td>Versatile and Practical with one flaw (that ma...</td>\n",
       "      <td>1401494400</td>\n",
       "      <td>05 31, 2014</td>\n",
       "    </tr>\n",
       "  </tbody>\n",
       "</table>\n",
       "</div>"
      ],
      "text/plain": [
       "           reviewerID        asin     reviewerName helpful  \\\n",
       "29549   A4QXTN3K865NR  B003O3F2R6      aar! \"aar!\"  [1, 1]   \n",
       "29550   AD0WUBKBO21KK  B003O3F2R6  Amazon Customer  [1, 1]   \n",
       "29551  A3T4OHEAHOJ700  B003O3F2R6       B. Colonna  [1, 1]   \n",
       "29552  A2FLJCJ3SW0TUY  B003O3F2R6      Brie \"Brie\"  [1, 1]   \n",
       "29553   AYNAH993VDECT  B003O3F2R6          bsg2004  [1, 1]   \n",
       "\n",
       "                                              reviewText  overall  \\\n",
       "29549  The manufacturer, Mead describes the one inch ...      5.0   \n",
       "29550  I like the nylon spine on this binder, which e...      2.0   \n",
       "29551  It is hard to get excited over a binder or not...      4.0   \n",
       "29552  I'm reviewing the blue hybrid notebinder, whic...      4.0   \n",
       "29553  This is a smart idea for a hybrid notepad-bind...      5.0   \n",
       "\n",
       "                                                 summary  unixReviewTime  \\\n",
       "29549                          Best Notebook/Binder Ever      1401235200   \n",
       "29550   Seemed great until bits started breaking off....      1401580800   \n",
       "29551  Half A Notebook, Half A Binder = A Fun, But A ...      1403827200   \n",
       "29552                       Love the design, but costly.      1403308800   \n",
       "29553  Versatile and Practical with one flaw (that ma...      1401494400   \n",
       "\n",
       "        reviewDate  \n",
       "29549  05 28, 2014  \n",
       "29550   06 1, 2014  \n",
       "29551  06 27, 2014  \n",
       "29552  06 21, 2014  \n",
       "29553  05 31, 2014  "
      ]
     },
     "execution_count": 13,
     "metadata": {},
     "output_type": "execute_result"
    }
   ],
   "source": [
    "df_example.head()"
   ]
  },
  {
   "cell_type": "code",
   "execution_count": 12,
   "metadata": {},
   "outputs": [
    {
     "data": {
      "text/plain": [
       "'The manufacturer, Mead describes the one inch binder as a &#34;Flex Hybrid NoteBinder is the next generation in portable organization. This unique innovation acts like a notebook and works like a binder, offering both flexible capacity and carrying convenience. Outfitted with the patented TechLock fixture, its rings open and close easily for quick customization&#34;. No doubt this is the neatest &#34;Hybrid&#34; Binder ever.  First the easy to open binder Techlock rings are easy to open, are plastic and have not misaligned or broken.  What we like about this notebook is the fact it works like a binder, folds flat as it does not have a stiff board, but a soft nylon edge.  It comes with 80 sheets of both ruled and graph type (quad ruled) paper, 5 plastic tabbed, see through dividers that hold documents without having to punch holes in.  In addition, each divider has a 4&#34; X 7&#34; flapped card pocket.  Overall this is the slickest Notebook/Binder we come across - highly recommended without reservations.'"
      ]
     },
     "execution_count": 12,
     "metadata": {},
     "output_type": "execute_result"
    }
   ],
   "source": [
    "df_example['reviewText'].iloc[0]"
   ]
  }
 ],
 "metadata": {
  "kernelspec": {
   "display_name": "Python 3",
   "language": "python",
   "name": "python3"
  },
  "language_info": {
   "codemirror_mode": {
    "name": "ipython",
    "version": 3
   },
   "file_extension": ".py",
   "mimetype": "text/x-python",
   "name": "python",
   "nbconvert_exporter": "python",
   "pygments_lexer": "ipython3",
   "version": "3.6.3"
  }
 },
 "nbformat": 4,
 "nbformat_minor": 2
}
