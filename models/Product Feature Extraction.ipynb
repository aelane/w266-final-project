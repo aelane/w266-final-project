{
 "cells": [
  {
   "cell_type": "code",
   "execution_count": 148,
   "metadata": {},
   "outputs": [],
   "source": [
    "import gzip\n",
    "import numpy as np\n",
    "import pandas as pd \n",
    "import matplotlib.pyplot as plt\n",
    "import seaborn as sns\n",
    "import nltk\n",
    "import urllib.request\n",
    "import io\n",
    "from nltk import tokenize\n",
    "import time"
   ]
  },
  {
   "cell_type": "markdown",
   "metadata": {},
   "source": [
    "# Amazon Review Data"
   ]
  },
  {
   "cell_type": "markdown",
   "metadata": {},
   "source": [
    "Data downloaded from http://jmcauley.ucsd.edu/data/amazon/links.html\n",
    "\n",
    "R. He, J. McAuley. Modeling the visual evolution of fashion trends with one-class collaborative filtering. WWW, 2016\n",
    "\n",
    "\n",
    "J. McAuley, C. Targett, J. Shi, A. van den Hengel. Image-based recommendations on styles and substitutes. SIGIR, 2015"
   ]
  },
  {
   "cell_type": "markdown",
   "metadata": {},
   "source": [
    "## Read data into pandas dataframe"
   ]
  },
  {
   "cell_type": "code",
   "execution_count": 149,
   "metadata": {},
   "outputs": [],
   "source": [
    "path = '/home/amkabatznick/w266-final-project/data/raw/amazon/reviews_Office_Products_5.json.gz'\n",
    "#path = '/home/amkabatznick/w266-final-project/data/raw/amazon/reviews_Musical_Instruments_5.json.gz'\n",
    "product = 'Office_Products'\n"
   ]
  },
  {
   "cell_type": "markdown",
   "metadata": {},
   "source": [
    "### Parsing function"
   ]
  },
  {
   "cell_type": "code",
   "execution_count": 150,
   "metadata": {},
   "outputs": [],
   "source": [
    "def parse(path): \n",
    "    g = gzip.open(path, 'rb') \n",
    "    for l in g: \n",
    "        yield eval(l) "
   ]
  },
  {
   "cell_type": "markdown",
   "metadata": {},
   "source": [
    "### Read into dataframe"
   ]
  },
  {
   "cell_type": "code",
   "execution_count": 151,
   "metadata": {},
   "outputs": [],
   "source": [
    "def getDF(path): \n",
    "    i = 0 \n",
    "    df = {} \n",
    "    for d in parse(path): \n",
    "        df[i] = d \n",
    "        i += 1\n",
    "    return pd.DataFrame.from_dict(df, orient='index').rename(columns={'reviewTime': 'reviewDate'})"
   ]
  },
  {
   "cell_type": "markdown",
   "metadata": {},
   "source": [
    "#### Read Musical Instruments reviews into dataframe"
   ]
  },
  {
   "cell_type": "code",
   "execution_count": 152,
   "metadata": {},
   "outputs": [
    {
     "data": {
      "text/html": [
       "<div>\n",
       "<style scoped>\n",
       "    .dataframe tbody tr th:only-of-type {\n",
       "        vertical-align: middle;\n",
       "    }\n",
       "\n",
       "    .dataframe tbody tr th {\n",
       "        vertical-align: top;\n",
       "    }\n",
       "\n",
       "    .dataframe thead th {\n",
       "        text-align: right;\n",
       "    }\n",
       "</style>\n",
       "<table border=\"1\" class=\"dataframe\">\n",
       "  <thead>\n",
       "    <tr style=\"text-align: right;\">\n",
       "      <th></th>\n",
       "      <th>reviewerID</th>\n",
       "      <th>asin</th>\n",
       "      <th>reviewerName</th>\n",
       "      <th>helpful</th>\n",
       "      <th>reviewText</th>\n",
       "      <th>overall</th>\n",
       "      <th>summary</th>\n",
       "      <th>unixReviewTime</th>\n",
       "      <th>reviewDate</th>\n",
       "    </tr>\n",
       "  </thead>\n",
       "  <tbody>\n",
       "    <tr>\n",
       "      <th>0</th>\n",
       "      <td>A32T2H8150OJLU</td>\n",
       "      <td>B00000JBLH</td>\n",
       "      <td>ARH</td>\n",
       "      <td>[3, 4]</td>\n",
       "      <td>I bought my first HP12C in about 1984 or so, a...</td>\n",
       "      <td>5.0</td>\n",
       "      <td>A solid performer, and long time friend</td>\n",
       "      <td>1094169600</td>\n",
       "      <td>09 3, 2004</td>\n",
       "    </tr>\n",
       "    <tr>\n",
       "      <th>1</th>\n",
       "      <td>A3MAFS04ZABRGO</td>\n",
       "      <td>B00000JBLH</td>\n",
       "      <td>Let it Be \"Alan\"</td>\n",
       "      <td>[7, 9]</td>\n",
       "      <td>WHY THIS BELATED REVIEW? I feel very obliged t...</td>\n",
       "      <td>5.0</td>\n",
       "      <td>Price of GOLD is up, so don't bury the golden ...</td>\n",
       "      <td>1197676800</td>\n",
       "      <td>12 15, 2007</td>\n",
       "    </tr>\n",
       "    <tr>\n",
       "      <th>2</th>\n",
       "      <td>A1F1A0QQP2XVH5</td>\n",
       "      <td>B00000JBLH</td>\n",
       "      <td>Mark B</td>\n",
       "      <td>[3, 3]</td>\n",
       "      <td>I have an HP 48GX that has been kicking for mo...</td>\n",
       "      <td>2.0</td>\n",
       "      <td>Good functionality, but not durable like old HPs</td>\n",
       "      <td>1293840000</td>\n",
       "      <td>01 1, 2011</td>\n",
       "    </tr>\n",
       "    <tr>\n",
       "      <th>3</th>\n",
       "      <td>A49R5DBXXQDE5</td>\n",
       "      <td>B00000JBLH</td>\n",
       "      <td>R. D Johnson</td>\n",
       "      <td>[7, 8]</td>\n",
       "      <td>I've started doing more finance stuff recently...</td>\n",
       "      <td>5.0</td>\n",
       "      <td>One of the last of an almost extinct species</td>\n",
       "      <td>1145404800</td>\n",
       "      <td>04 19, 2006</td>\n",
       "    </tr>\n",
       "    <tr>\n",
       "      <th>4</th>\n",
       "      <td>A2XRMQA6PJ5ZJ8</td>\n",
       "      <td>B00000JBLH</td>\n",
       "      <td>Roger J. Buffington</td>\n",
       "      <td>[0, 0]</td>\n",
       "      <td>For simple calculations and discounted cash fl...</td>\n",
       "      <td>5.0</td>\n",
       "      <td>Still the best</td>\n",
       "      <td>1375574400</td>\n",
       "      <td>08 4, 2013</td>\n",
       "    </tr>\n",
       "  </tbody>\n",
       "</table>\n",
       "</div>"
      ],
      "text/plain": [
       "       reviewerID        asin         reviewerName helpful  \\\n",
       "0  A32T2H8150OJLU  B00000JBLH                  ARH  [3, 4]   \n",
       "1  A3MAFS04ZABRGO  B00000JBLH     Let it Be \"Alan\"  [7, 9]   \n",
       "2  A1F1A0QQP2XVH5  B00000JBLH               Mark B  [3, 3]   \n",
       "3   A49R5DBXXQDE5  B00000JBLH         R. D Johnson  [7, 8]   \n",
       "4  A2XRMQA6PJ5ZJ8  B00000JBLH  Roger J. Buffington  [0, 0]   \n",
       "\n",
       "                                          reviewText  overall  \\\n",
       "0  I bought my first HP12C in about 1984 or so, a...      5.0   \n",
       "1  WHY THIS BELATED REVIEW? I feel very obliged t...      5.0   \n",
       "2  I have an HP 48GX that has been kicking for mo...      2.0   \n",
       "3  I've started doing more finance stuff recently...      5.0   \n",
       "4  For simple calculations and discounted cash fl...      5.0   \n",
       "\n",
       "                                             summary  unixReviewTime  \\\n",
       "0            A solid performer, and long time friend      1094169600   \n",
       "1  Price of GOLD is up, so don't bury the golden ...      1197676800   \n",
       "2   Good functionality, but not durable like old HPs      1293840000   \n",
       "3       One of the last of an almost extinct species      1145404800   \n",
       "4                                     Still the best      1375574400   \n",
       "\n",
       "    reviewDate  \n",
       "0   09 3, 2004  \n",
       "1  12 15, 2007  \n",
       "2   01 1, 2011  \n",
       "3  04 19, 2006  \n",
       "4   08 4, 2013  "
      ]
     },
     "execution_count": 152,
     "metadata": {},
     "output_type": "execute_result"
    }
   ],
   "source": [
    "df_product = getDF(path)\n",
    "df_product.head()"
   ]
  },
  {
   "cell_type": "code",
   "execution_count": 138,
   "metadata": {},
   "outputs": [],
   "source": [
    "products = df_product.asin.unique()"
   ]
  },
  {
   "cell_type": "markdown",
   "metadata": {},
   "source": [
    "### Create helper functions to find all features"
   ]
  },
  {
   "cell_type": "code",
   "execution_count": 139,
   "metadata": {},
   "outputs": [],
   "source": [
    "def find_all_features():\n",
    "    #Used to Time the function\n",
    "    start = time.time()\n",
    "    last = start\n",
    "    #What the output array will look like\n",
    "    columns=['features','sentences','product_id','review_helpful']\n",
    "    all_features = pd.DataFrame(columns=columns)\n",
    "    #loop through all reviews\n",
    "    for i in df_product.index:\n",
    "        if i % 1000==0:\n",
    "            print('Currently Parsing Review {:,}'.format(i))\n",
    "            end = time.time()\n",
    "            hours, rem = divmod(end-start, 3600)\n",
    "            minutes, seconds = divmod(rem, 60)\n",
    "            print(\"The total code has been running for: {:0>2}:{:0>2}:{:05.2f}\".format(int(hours),int(minutes),seconds))\n",
    "            \n",
    "            hours, rem = divmod(end-last, 3600)\n",
    "            minutes, seconds = divmod(rem, 60)\n",
    "            print(\"The last 1,000 took: {:0>2}:{:0>2}:{:05.2f}\".format(int(hours),int(minutes),seconds))\n",
    "            last = end\n",
    "             \n",
    "        sentence = tokenize.sent_tokenize(df_product.reviewText[i])\n",
    "        product_features = find_nouns(sentence)\n",
    "        product_features['product_id'] = df_product.asin[i]\n",
    "        product_features['review_helpful'] = df_product.helpful[i][0]\n",
    "        all_features = all_features.append(product_features,ignore_index=True)\n",
    "    \n",
    "    return all_features"
   ]
  },
  {
   "cell_type": "code",
   "execution_count": 140,
   "metadata": {},
   "outputs": [],
   "source": [
    "def find_nouns(sentences):\n",
    "    features = pd.DataFrame(columns=['features','sentences'])\n",
    "    #nouns = ['NN','NNS','NNP','\tNNPS']\n",
    "    nouns = ['NN','NNS']\n",
    "    for i in range(len(sentences)):\n",
    "        tags = nltk.pos_tag(nltk.word_tokenize(sentences[i]))\n",
    "        for word in tags:\n",
    "            if word[1] in nouns:\n",
    "                features = features.append(pd.DataFrame(data=[[word[0],sentences[i]]],columns=['features','sentences']),ignore_index=True)\n",
    "                break\n",
    "    return features"
   ]
  },
  {
   "cell_type": "markdown",
   "metadata": {},
   "source": [
    "### Find all Features"
   ]
  },
  {
   "cell_type": "code",
   "execution_count": 154,
   "metadata": {},
   "outputs": [],
   "source": [
    "try:\n",
    "    all_features = pd.read_csv('/home/amkabatznick/w266-final-project/data/processed/amazon/Office_Products/reviews_data.csv')\n",
    "except:\n",
    "    all_features = find_all_features()"
   ]
  },
  {
   "cell_type": "markdown",
   "metadata": {},
   "source": [
    "### Find all features that have a number of reviews great than 5"
   ]
  },
  {
   "cell_type": "code",
   "execution_count": 142,
   "metadata": {},
   "outputs": [],
   "source": [
    "#grouped_features = all_features.groupby(['features','product_id'])\n",
    "#distinct_grouped_features = grouped_features.filter(lambda x: x.count()['review_helpful'] > 5)"
   ]
  },
  {
   "cell_type": "code",
   "execution_count": 143,
   "metadata": {},
   "outputs": [],
   "source": [
    "#np.mean(distinct_grouped_features.groupby(['features','product_id'])['review_helpful'].count())"
   ]
  },
  {
   "cell_type": "code",
   "execution_count": 144,
   "metadata": {},
   "outputs": [],
   "source": [
    "#distinct_grouped_features.groupby(['features','product_id'])['review_helpful'].max()"
   ]
  },
  {
   "cell_type": "code",
   "execution_count": 155,
   "metadata": {},
   "outputs": [],
   "source": [
    "grouped_features_10 = all_features.groupby(['features','product_id'])\n",
    "distinct_grouped_features_10 = grouped_features_10.filter(lambda x: x.count()['review_helpful'] > 10)\n",
    "distinct_grouped_features_10.to_csv('/home/amkabatznick/w266-final-project/data/processed/amazon/{}/reviews_data.csv'.format(product))\n",
    "#distinct_grouped_features_10.groupby(['features','product_id'])['review_helpful'].count()"
   ]
  },
  {
   "cell_type": "code",
   "execution_count": 156,
   "metadata": {},
   "outputs": [
    {
     "data": {
      "text/plain": [
       "features    product_id\n",
       "*           B00EO58Z5O     12\n",
       "***         B004H3XKR6     12\n",
       "CD          B002M7W19C     17\n",
       "Notes       B002XYO84U     14\n",
       "            B0035FX5MC     12\n",
       "            B004VJSFG2     12\n",
       "            B0063C5NMY     13\n",
       "Page        B004VJSG2A     14\n",
       "Post-its    B003FHBPRM     15\n",
       "Sharpies    B00BEYXGNY     14\n",
       "WINNER      B00671E4B2     12\n",
       "address     B002K9GOPE     21\n",
       "            B002K9PIKG     28\n",
       "            B002V1H5UY     12\n",
       "adhesive    B0010T3QT2     17\n",
       "            B002ECFIDG     12\n",
       "            B002K9IHJK     14\n",
       "            B0039N7ELS     22\n",
       "            B004YGBIVQ     16\n",
       "air         B00934G9RC     13\n",
       "angle       B00BXCDOH0     13\n",
       "anything    B0039N3QO2     12\n",
       "            B008DF54N2     14\n",
       "app         B00ATM1N9Q     28\n",
       "apple       B004YQZPVA     11\n",
       "applicator  B004O49F7M     26\n",
       "area        B004412E8W     13\n",
       "arm         B009NSJ8J4     17\n",
       "            B00HUTA3Z6     13\n",
       "arms        B009NSGO3M     11\n",
       "                         ... \n",
       "wireless    B0091UBCAW     14\n",
       "            B0091UBCB6     11\n",
       "            B0091Y07Y0     12\n",
       "wood        B00D7NYKRQ     11\n",
       "work        B002K9GOPE     13\n",
       "            B0039N3QO2     11\n",
       "workbook    B002R5ARLI     15\n",
       "            B002R5ARNG     16\n",
       "            B004EWHN0A     11\n",
       "wrap        B00006IBLJ     14\n",
       "            B00GMOO9EG     20\n",
       "wrist       B000A0HGPM     22\n",
       "            B000A0OFXS     25\n",
       "            B000WU4H5C    110\n",
       "            B000XSPEPA     16\n",
       "            B000ZHB2HS     51\n",
       "            B0012YXVGI     28\n",
       "            B0013C7K1Q     39\n",
       "            B0013CF4CS     23\n",
       "            B0013CF4FK     25\n",
       "            B0017D3UME     44\n",
       "            B003FHF98S     27\n",
       "            B008CO4NCC     23\n",
       "            B008CO4NGS     17\n",
       "            B00BQX5MFS     18\n",
       "            B00BQX5PYQ     33\n",
       "wrists      B000WU4H5C     14\n",
       "writing     B00EVC942I     18\n",
       "zipper      B00COHAJXA     20\n",
       "            B00COHALXI     16\n",
       "Name: review_helpful, Length: 2659, dtype: int64"
      ]
     },
     "execution_count": 156,
     "metadata": {},
     "output_type": "execute_result"
    }
   ],
   "source": [
    "distinct_grouped_features_10.groupby(['features','product_id'])['review_helpful'].count()"
   ]
  },
  {
   "cell_type": "code",
   "execution_count": 168,
   "metadata": {},
   "outputs": [],
   "source": [
    "distinct_features = distinct_grouped_features_10.groupby(['features','product_id']\n",
    "                                                        )['review_helpful'].size().reset_index()[['features',\n",
    "                                                                                                  'product_id']]\n",
    "\n",
    "for i in distinct_features.index:\n",
    "    features = distinct_features['features'].loc[i]\n",
    "    product_id = distinct_features['product_id'].loc[i]\n",
    "    all_sentences = distinct_grouped_features_10[(distinct_grouped_features_10.product_id==product_id) & \n",
    "                        (distinct_grouped_features_10.features==features)]\n",
    "\n",
    "    #MaxSentences = ['']\n",
    "    #for i in range(3):\n",
    "        #current_max = all_sentences.review_helpful.astype(float).idxmax(axis=0)\n",
    "        #MaxSentences.append(all_sentences.loc[current_max]['sentences'])\n",
    "        #all_sentences.drop(current_max,inplace=True)\n",
    "\n",
    "    MaxSentences = ' '.join(all_sentences.sort_values('review_helpful')[-3:]['sentences'].values)\n",
    "    \n",
    "    text_of_review = ' '.join(all_sentences.sentences[:100].values)\n",
    "    text_of_review = text_of_review+'\\n\\n@highlight\\n\\n'.join(MaxSentences)\n",
    "    with open(\"/home/amkabatznick/w266-final-project/data/processed/amazon/{0:}/{1:}_{2:}.txt\".format(product,product_id,features), \"w\") as text_file:\n",
    "        text_file.write(text_of_review)"
   ]
  },
  {
   "cell_type": "code",
   "execution_count": null,
   "metadata": {},
   "outputs": [],
   "source": []
  }
 ],
 "metadata": {
  "kernelspec": {
   "display_name": "Python 3",
   "language": "python",
   "name": "python3"
  },
  "language_info": {
   "codemirror_mode": {
    "name": "ipython",
    "version": 3
   },
   "file_extension": ".py",
   "mimetype": "text/x-python",
   "name": "python",
   "nbconvert_exporter": "python",
   "pygments_lexer": "ipython3",
   "version": "3.6.5"
  }
 },
 "nbformat": 4,
 "nbformat_minor": 2
}
