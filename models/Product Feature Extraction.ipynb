{
 "cells": [
  {
   "cell_type": "code",
   "execution_count": 8,
   "metadata": {},
   "outputs": [],
   "source": [
    "import gzip\n",
    "import numpy as np\n",
    "import pandas as pd \n",
    "import matplotlib.pyplot as plt\n",
    "import seaborn as sns\n",
    "import nltk\n",
    "import urllib.request\n",
    "import io\n",
    "from nltk import tokenize\n",
    "import time"
   ]
  },
  {
   "cell_type": "markdown",
   "metadata": {},
   "source": [
    "# Amazon Review Data"
   ]
  },
  {
   "cell_type": "markdown",
   "metadata": {},
   "source": [
    "Data downloaded from http://jmcauley.ucsd.edu/data/amazon/links.html\n",
    "\n",
    "R. He, J. McAuley. Modeling the visual evolution of fashion trends with one-class collaborative filtering. WWW, 2016\n",
    "\n",
    "\n",
    "J. McAuley, C. Targett, J. Shi, A. van den Hengel. Image-based recommendations on styles and substitutes. SIGIR, 2015"
   ]
  },
  {
   "cell_type": "markdown",
   "metadata": {},
   "source": [
    "## Read data into pandas dataframe"
   ]
  },
  {
   "cell_type": "code",
   "execution_count": 132,
   "metadata": {},
   "outputs": [],
   "source": [
    "#path = '/home/amkabatznick/w266-final-project/data/raw/amazon/reviews_Office_Products_5.json.gz'\n",
    "path = '/home/amkabatznick/w266-final-project/data/raw/amazon/reviews_Musical_Instruments_5.json.gz'\n",
    "product = 'Musical_Instruments'\n"
   ]
  },
  {
   "cell_type": "markdown",
   "metadata": {},
   "source": [
    "### Parsing function"
   ]
  },
  {
   "cell_type": "code",
   "execution_count": 10,
   "metadata": {},
   "outputs": [],
   "source": [
    "def parse(path): \n",
    "    g = gzip.open(path, 'rb') \n",
    "    for l in g: \n",
    "        yield eval(l) "
   ]
  },
  {
   "cell_type": "markdown",
   "metadata": {},
   "source": [
    "### Read into dataframe"
   ]
  },
  {
   "cell_type": "code",
   "execution_count": 11,
   "metadata": {},
   "outputs": [],
   "source": [
    "def getDF(path): \n",
    "    i = 0 \n",
    "    df = {} \n",
    "    for d in parse(path): \n",
    "        df[i] = d \n",
    "        i += 1\n",
    "    return pd.DataFrame.from_dict(df, orient='index').rename(columns={'reviewTime': 'reviewDate'})"
   ]
  },
  {
   "cell_type": "markdown",
   "metadata": {},
   "source": [
    "#### Read Musical Instruments reviews into dataframe"
   ]
  },
  {
   "cell_type": "code",
   "execution_count": 12,
   "metadata": {},
   "outputs": [
    {
     "data": {
      "text/html": [
       "<div>\n",
       "<style scoped>\n",
       "    .dataframe tbody tr th:only-of-type {\n",
       "        vertical-align: middle;\n",
       "    }\n",
       "\n",
       "    .dataframe tbody tr th {\n",
       "        vertical-align: top;\n",
       "    }\n",
       "\n",
       "    .dataframe thead th {\n",
       "        text-align: right;\n",
       "    }\n",
       "</style>\n",
       "<table border=\"1\" class=\"dataframe\">\n",
       "  <thead>\n",
       "    <tr style=\"text-align: right;\">\n",
       "      <th></th>\n",
       "      <th>reviewerID</th>\n",
       "      <th>asin</th>\n",
       "      <th>reviewerName</th>\n",
       "      <th>helpful</th>\n",
       "      <th>reviewText</th>\n",
       "      <th>overall</th>\n",
       "      <th>summary</th>\n",
       "      <th>unixReviewTime</th>\n",
       "      <th>reviewDate</th>\n",
       "    </tr>\n",
       "  </thead>\n",
       "  <tbody>\n",
       "    <tr>\n",
       "      <th>0</th>\n",
       "      <td>A2IBPI20UZIR0U</td>\n",
       "      <td>1384719342</td>\n",
       "      <td>cassandra tu \"Yeah, well, that's just like, u...</td>\n",
       "      <td>[0, 0]</td>\n",
       "      <td>Not much to write about here, but it does exac...</td>\n",
       "      <td>5.0</td>\n",
       "      <td>good</td>\n",
       "      <td>1393545600</td>\n",
       "      <td>02 28, 2014</td>\n",
       "    </tr>\n",
       "    <tr>\n",
       "      <th>1</th>\n",
       "      <td>A14VAT5EAX3D9S</td>\n",
       "      <td>1384719342</td>\n",
       "      <td>Jake</td>\n",
       "      <td>[13, 14]</td>\n",
       "      <td>The product does exactly as it should and is q...</td>\n",
       "      <td>5.0</td>\n",
       "      <td>Jake</td>\n",
       "      <td>1363392000</td>\n",
       "      <td>03 16, 2013</td>\n",
       "    </tr>\n",
       "    <tr>\n",
       "      <th>2</th>\n",
       "      <td>A195EZSQDW3E21</td>\n",
       "      <td>1384719342</td>\n",
       "      <td>Rick Bennette \"Rick Bennette\"</td>\n",
       "      <td>[1, 1]</td>\n",
       "      <td>The primary job of this device is to block the...</td>\n",
       "      <td>5.0</td>\n",
       "      <td>It Does The Job Well</td>\n",
       "      <td>1377648000</td>\n",
       "      <td>08 28, 2013</td>\n",
       "    </tr>\n",
       "    <tr>\n",
       "      <th>3</th>\n",
       "      <td>A2C00NNG1ZQQG2</td>\n",
       "      <td>1384719342</td>\n",
       "      <td>RustyBill \"Sunday Rocker\"</td>\n",
       "      <td>[0, 0]</td>\n",
       "      <td>Nice windscreen protects my MXL mic and preven...</td>\n",
       "      <td>5.0</td>\n",
       "      <td>GOOD WINDSCREEN FOR THE MONEY</td>\n",
       "      <td>1392336000</td>\n",
       "      <td>02 14, 2014</td>\n",
       "    </tr>\n",
       "    <tr>\n",
       "      <th>4</th>\n",
       "      <td>A94QU4C90B1AX</td>\n",
       "      <td>1384719342</td>\n",
       "      <td>SEAN MASLANKA</td>\n",
       "      <td>[0, 0]</td>\n",
       "      <td>This pop filter is great. It looks and perform...</td>\n",
       "      <td>5.0</td>\n",
       "      <td>No more pops when I record my vocals.</td>\n",
       "      <td>1392940800</td>\n",
       "      <td>02 21, 2014</td>\n",
       "    </tr>\n",
       "  </tbody>\n",
       "</table>\n",
       "</div>"
      ],
      "text/plain": [
       "       reviewerID        asin  \\\n",
       "0  A2IBPI20UZIR0U  1384719342   \n",
       "1  A14VAT5EAX3D9S  1384719342   \n",
       "2  A195EZSQDW3E21  1384719342   \n",
       "3  A2C00NNG1ZQQG2  1384719342   \n",
       "4   A94QU4C90B1AX  1384719342   \n",
       "\n",
       "                                       reviewerName   helpful  \\\n",
       "0  cassandra tu \"Yeah, well, that's just like, u...    [0, 0]   \n",
       "1                                              Jake  [13, 14]   \n",
       "2                     Rick Bennette \"Rick Bennette\"    [1, 1]   \n",
       "3                         RustyBill \"Sunday Rocker\"    [0, 0]   \n",
       "4                                     SEAN MASLANKA    [0, 0]   \n",
       "\n",
       "                                          reviewText  overall  \\\n",
       "0  Not much to write about here, but it does exac...      5.0   \n",
       "1  The product does exactly as it should and is q...      5.0   \n",
       "2  The primary job of this device is to block the...      5.0   \n",
       "3  Nice windscreen protects my MXL mic and preven...      5.0   \n",
       "4  This pop filter is great. It looks and perform...      5.0   \n",
       "\n",
       "                                 summary  unixReviewTime   reviewDate  \n",
       "0                                   good      1393545600  02 28, 2014  \n",
       "1                                   Jake      1363392000  03 16, 2013  \n",
       "2                   It Does The Job Well      1377648000  08 28, 2013  \n",
       "3          GOOD WINDSCREEN FOR THE MONEY      1392336000  02 14, 2014  \n",
       "4  No more pops when I record my vocals.      1392940800  02 21, 2014  "
      ]
     },
     "execution_count": 12,
     "metadata": {},
     "output_type": "execute_result"
    }
   ],
   "source": [
    "df_product = getDF(path)\n",
    "df_product.head()"
   ]
  },
  {
   "cell_type": "code",
   "execution_count": 13,
   "metadata": {},
   "outputs": [],
   "source": [
    "products = df_product.asin.unique()"
   ]
  },
  {
   "cell_type": "markdown",
   "metadata": {},
   "source": [
    "### Create helper functions to find all features"
   ]
  },
  {
   "cell_type": "code",
   "execution_count": 14,
   "metadata": {},
   "outputs": [],
   "source": [
    "def find_all_features():\n",
    "    #Used to Time the function\n",
    "    start = time.time()\n",
    "    last = start\n",
    "    #What the output array will look like\n",
    "    columns=['features','sentences','product_id','review_helpful']\n",
    "    all_features = pd.DataFrame(columns=columns)\n",
    "    #loop through all reviews\n",
    "    for i in df_product.index:\n",
    "        if i % 1000==0:\n",
    "            print('Currently Parsing Review {:,}'.format(i))\n",
    "            end = time.time()\n",
    "            hours, rem = divmod(end-start, 3600)\n",
    "            minutes, seconds = divmod(rem, 60)\n",
    "            print(\"The total code has been running for: {:0>2}:{:0>2}:{:05.2f}\".format(int(hours),int(minutes),seconds))\n",
    "            \n",
    "            hours, rem = divmod(end-last, 3600)\n",
    "            minutes, seconds = divmod(rem, 60)\n",
    "            print(\"The last 1,000 took: {:0>2}:{:0>2}:{:05.2f}\".format(int(hours),int(minutes),seconds))\n",
    "            last = end\n",
    "             \n",
    "        sentence = tokenize.sent_tokenize(df_product.reviewText[i])\n",
    "        product_features = find_nouns(sentence)\n",
    "        product_features['product_id'] = df_product.asin[i]\n",
    "        product_features['review_helpful'] = df_product.helpful[i][0]\n",
    "        all_features = all_features.append(product_features,ignore_index=True)\n",
    "    \n",
    "    return all_features"
   ]
  },
  {
   "cell_type": "code",
   "execution_count": 15,
   "metadata": {},
   "outputs": [],
   "source": [
    "def find_nouns(sentences):\n",
    "    features = pd.DataFrame(columns=['features','sentences'])\n",
    "    #nouns = ['NN','NNS','NNP','\tNNPS']\n",
    "    nouns = ['NN','NNS']\n",
    "    for i in range(len(sentences)):\n",
    "        tags = nltk.pos_tag(nltk.word_tokenize(sentences[i]))\n",
    "        for word in tags:\n",
    "            if word[1] in nouns:\n",
    "                features = features.append(pd.DataFrame(data=[[word[0],sentences[i]]],columns=['features','sentences']),ignore_index=True)\n",
    "                break\n",
    "    return features"
   ]
  },
  {
   "cell_type": "markdown",
   "metadata": {},
   "source": [
    "### Find all Features"
   ]
  },
  {
   "cell_type": "code",
   "execution_count": 16,
   "metadata": {},
   "outputs": [
    {
     "name": "stdout",
     "output_type": "stream",
     "text": [
      "Currently Parsing Review 0\n",
      "The total code has been running for: 00:00:00.01\n",
      "The last 1,000 took: 00:00:00.01\n",
      "Currently Parsing Review 1,000\n",
      "The total code has been running for: 00:00:16.84\n",
      "The last 1,000 took: 00:00:16.83\n",
      "Currently Parsing Review 2,000\n",
      "The total code has been running for: 00:00:33.97\n",
      "The last 1,000 took: 00:00:17.14\n",
      "Currently Parsing Review 3,000\n",
      "The total code has been running for: 00:00:52.70\n",
      "The last 1,000 took: 00:00:18.72\n",
      "Currently Parsing Review 4,000\n",
      "The total code has been running for: 00:01:12.47\n",
      "The last 1,000 took: 00:00:19.78\n",
      "Currently Parsing Review 5,000\n",
      "The total code has been running for: 00:01:37.41\n",
      "The last 1,000 took: 00:00:24.94\n",
      "Currently Parsing Review 6,000\n",
      "The total code has been running for: 00:02:06.74\n",
      "The last 1,000 took: 00:00:29.33\n",
      "Currently Parsing Review 7,000\n",
      "The total code has been running for: 00:02:38.31\n",
      "The last 1,000 took: 00:00:31.57\n",
      "Currently Parsing Review 8,000\n",
      "The total code has been running for: 00:03:15.04\n",
      "The last 1,000 took: 00:00:36.73\n",
      "Currently Parsing Review 9,000\n",
      "The total code has been running for: 00:03:56.54\n",
      "The last 1,000 took: 00:00:41.50\n",
      "Currently Parsing Review 10,000\n",
      "The total code has been running for: 00:04:41.70\n",
      "The last 1,000 took: 00:00:45.16\n"
     ]
    }
   ],
   "source": [
    "all_features = find_all_features()"
   ]
  },
  {
   "cell_type": "markdown",
   "metadata": {},
   "source": [
    "### Find all features that have a number of reviews great than 5"
   ]
  },
  {
   "cell_type": "code",
   "execution_count": 17,
   "metadata": {},
   "outputs": [],
   "source": [
    "#grouped_features = all_features.groupby(['features','product_id'])\n",
    "#distinct_grouped_features = grouped_features.filter(lambda x: x.count()['review_helpful'] > 5)"
   ]
  },
  {
   "cell_type": "code",
   "execution_count": 18,
   "metadata": {},
   "outputs": [
    {
     "data": {
      "text/plain": [
       "10.43286219081272"
      ]
     },
     "execution_count": 18,
     "metadata": {},
     "output_type": "execute_result"
    }
   ],
   "source": [
    "#np.mean(distinct_grouped_features.groupby(['features','product_id'])['review_helpful'].count())"
   ]
  },
  {
   "cell_type": "code",
   "execution_count": 19,
   "metadata": {},
   "outputs": [
    {
     "data": {
      "text/plain": [
       "features   product_id\n",
       "accurate   B003VWKPHC      0\n",
       "adapter    B0002GZM00      0\n",
       "adapters   B000RNB720      1\n",
       "amp        B0002CZV82    142\n",
       "           B0002D0096      8\n",
       "           B000B6DHAS     38\n",
       "           B000B6DHB2    130\n",
       "           B000MVYOZY     13\n",
       "           B000VOBU9U      2\n",
       "           B001J1JRN0     15\n",
       "           B001L8IJ0I     27\n",
       "           B0027M30Z6     32\n",
       "           B002GHBZ4U      6\n",
       "           B002GYWBIM      3\n",
       "           B002GYWBJ6     17\n",
       "           B003D3OCD2      9\n",
       "           B003S3S0DU     22\n",
       "           B0042EZH6W    190\n",
       "           B004ISK48S     74\n",
       "           B006Y2FUW6     17\n",
       "           B008BTTQI4     27\n",
       "anchors    B0002GLCRC      0\n",
       "bass       B0002OS9FC      6\n",
       "           B000KIPUQG      8\n",
       "batteries  B003VWJ2K8      1\n",
       "battery    B003VWJ2K8     36\n",
       "           B005FKF1PY     20\n",
       "bench      B000GUR8V8      0\n",
       "board      B001G3TJXO      5\n",
       "           B001RNOHHG      3\n",
       "                        ... \n",
       "tuner      B004XNK7AI      2\n",
       "           B004Z17008    290\n",
       "           B005FKF1PY     47\n",
       "           B005MR6IHK      1\n",
       "           B00646MZHK    112\n",
       "           B0073XCXHA      0\n",
       "tuners     B000L6GD04      7\n",
       "           B003VWJ2K8      3\n",
       "           B003VWKPHC      3\n",
       "           B004XNK7AI      3\n",
       "           B004Z17008    290\n",
       "           B005FKF1PY     20\n",
       "           B00646MZHK      5\n",
       "tuning     B003VWJ2K8      2\n",
       "           B003VWKPHC      0\n",
       "vibration  B003VWJ2K8      0\n",
       "           B003VWKPHC     44\n",
       "vocals     B008O0RKVA     18\n",
       "volume     B003AYJU5O      1\n",
       "wah        B0002CZVK0     17\n",
       "           B000CD3QY2      8\n",
       "wall       B0002F7IIK     11\n",
       "           B0002GLCRC      2\n",
       "water      B0002D0COE     23\n",
       "way        B005FKF1PY     20\n",
       "winder     B0002E1G5C      2\n",
       "wire       B0002E1G5C      1\n",
       "years      B0002E3CHC     34\n",
       "           B0002F7K7Y      1\n",
       "           B008BPI2HE      0\n",
       "Name: review_helpful, Length: 566, dtype: int64"
      ]
     },
     "execution_count": 19,
     "metadata": {},
     "output_type": "execute_result"
    }
   ],
   "source": [
    "#distinct_grouped_features.groupby(['features','product_id'])['review_helpful'].max()"
   ]
  },
  {
   "cell_type": "code",
   "execution_count": 22,
   "metadata": {},
   "outputs": [],
   "source": [
    "grouped_features_10 = all_features.groupby(['features','product_id'])\n",
    "distinct_grouped_features_10 = grouped_features_10.filter(lambda x: x.count()['review_helpful'] > 10)\n",
    "distinct_grouped_features_10.to_csv('/home/amkabatznick/w266-final-project/data/processed/amazon/{}/reviews_data.csv'.format(product))\n",
    "#distinct_grouped_features_10.groupby(['features','product_id'])['review_helpful'].count()"
   ]
  },
  {
   "cell_type": "code",
   "execution_count": 23,
   "metadata": {},
   "outputs": [
    {
     "data": {
      "text/plain": [
       "features  product_id\n",
       "amp       B000B6DHB2    15\n",
       "          B001L8IJ0I    11\n",
       "          B002GYWBIM    15\n",
       "          B003D3OCD2    16\n",
       "          B0042EZH6W    37\n",
       "          B004ISK48S    13\n",
       "          B006Y2FUW6    14\n",
       "cable     B000068NW5    19\n",
       "          B0002CZZW4    13\n",
       "          B0002GMGYA    24\n",
       "          B000PO30QM    28\n",
       "          B000VJJQUU    11\n",
       "cables    B0002GMGYA    12\n",
       "capo      B0002CZSJY    15\n",
       "          B0002E2KPC    17\n",
       "          B0007GGUGA    15\n",
       "          B000B6FBA2    13\n",
       "          B000Y7Q2C4    11\n",
       "          B0026RB0G8    11\n",
       "          B008BPI2HE    25\n",
       "          B00GTSM8FW    23\n",
       "capos     B0002E2KPC    11\n",
       "case      B0002D01K4    17\n",
       "          B0002FO9QY    17\n",
       "clip      B003VWKPHC    12\n",
       "cloth     B0002GYW4C    15\n",
       "cutter    B0002E1G5C    12\n",
       "delay     B0049Z4UQ2    11\n",
       "display   B003VWJ2K8    15\n",
       "          B003VWKPHC    15\n",
       "                        ..\n",
       "strings   B0002PBS6S    12\n",
       "          B000A2HOB6    14\n",
       "          B000A6ASSS    20\n",
       "          B003B01QL8    14\n",
       "          B003NJF1G8    14\n",
       "          B00AQBT3EW    24\n",
       "          B00IZCSW3M    24\n",
       "          B00JBIVXGC    22\n",
       "tension   B008BPI2HE    14\n",
       "time      B0002E1G5C    11\n",
       "tone      B0002F7K7Y    13\n",
       "          B0002H0A3S    17\n",
       "tool      B0002E1G5C    29\n",
       "tuner     B0015RIN6U    15\n",
       "          B002Q0WSO8    18\n",
       "          B0033PSGSW    11\n",
       "          B003VWJ2K8    74\n",
       "          B003VWKPHC    65\n",
       "          B004XNK7AI    29\n",
       "          B004Z17008    12\n",
       "          B005FKF1PY    45\n",
       "          B00646MZHK    28\n",
       "          B0073XCXHA    11\n",
       "tuners    B000L6GD04    17\n",
       "          B003VWJ2K8    17\n",
       "          B003VWKPHC    17\n",
       "          B004XNK7AI    12\n",
       "          B005FKF1PY    14\n",
       "          B00646MZHK    11\n",
       "winder    B0002E1G5C    25\n",
       "Name: review_helpful, Length: 159, dtype: int64"
      ]
     },
     "execution_count": 23,
     "metadata": {},
     "output_type": "execute_result"
    }
   ],
   "source": [
    "distinct_grouped_features_10.groupby(['features','product_id'])['review_helpful'].count()"
   ]
  },
  {
   "cell_type": "code",
   "execution_count": 131,
   "metadata": {},
   "outputs": [
    {
     "name": "stderr",
     "output_type": "stream",
     "text": [
      "/home/amkabatznick/anaconda3/lib/python3.6/site-packages/pandas/core/frame.py:3694: SettingWithCopyWarning: \n",
      "A value is trying to be set on a copy of a slice from a DataFrame\n",
      "\n",
      "See the caveats in the documentation: http://pandas.pydata.org/pandas-docs/stable/indexing.html#indexing-view-versus-copy\n",
      "  errors=errors)\n"
     ]
    }
   ],
   "source": [
    "distinct_features = distinct_grouped_features_10.groupby(['features','product_id']\n",
    "                                                        )['review_helpful'].size().reset_index()[['features',\n",
    "                                                                                                  'product_id']]\n",
    "\n",
    "for i in distinct_features.index:\n",
    "    features = distinct_features['features'].loc[i]\n",
    "    product_id = distinct_features['product_id'].loc[i]\n",
    "    all_sentences = distinct_grouped_features_10[(distinct_grouped_features_10.product_id==product_id) & \n",
    "                        (distinct_grouped_features_10.features==features)]\n",
    "\n",
    "    MaxSentences = ['']\n",
    "    for i in range(3):\n",
    "        current_max = all_sentences.review_helpful.astype(float).idxmax(axis=0)\n",
    "        MaxSentences.append(all_sentences.loc[current_max]['sentences'])\n",
    "        all_sentences.drop(current_max,inplace=True)\n",
    "\n",
    "    text_of_review = ' '.join(all_sentences.sentences[:100].values)\n",
    "    text_of_review = text_of_review+'\\n\\n@highlight\\n\\n'.join(MaxSentences)\n",
    "    with open(\"/home/amkabatznick/w266-final-project/data/processed/amazon/{0:}/{1:}_{2:}.txt\".format(product,product_id,features), \"w\") as text_file:\n",
    "        text_file.write(text_of_review)"
   ]
  }
 ],
 "metadata": {
  "kernelspec": {
   "display_name": "Python 3",
   "language": "python",
   "name": "python3"
  }
 },
 "nbformat": 4,
 "nbformat_minor": 2
}
