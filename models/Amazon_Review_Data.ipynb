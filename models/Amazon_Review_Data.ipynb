{
 "cells": [
  {
   "cell_type": "markdown",
   "metadata": {},
   "source": [
    "# Amazon Review Data"
   ]
  },
  {
   "cell_type": "code",
   "execution_count": 8,
   "metadata": {},
   "outputs": [],
   "source": [
    "import gzip\n",
    "import numpy as np\n",
    "import pandas as pd \n",
    "import matplotlib.pyplot as plt\n",
    "import seaborn as sns\n",
    "import nltk"
   ]
  },
  {
   "cell_type": "markdown",
   "metadata": {},
   "source": [
    "Data downloaded from http://jmcauley.ucsd.edu/data/amazon/links.html\n",
    "\n",
    "R. He, J. McAuley. Modeling the visual evolution of fashion trends with one-class collaborative filtering. WWW, 2016\n",
    "\n",
    "\n",
    "J. McAuley, C. Targett, J. Shi, A. van den Hengel. Image-based recommendations on styles and substitutes. SIGIR, 2015"
   ]
  },
  {
   "cell_type": "markdown",
   "metadata": {},
   "source": [
    "# Read data into pandas dataframe"
   ]
  },
  {
   "cell_type": "markdown",
   "metadata": {},
   "source": [
    "### Set paths"
   ]
  },
  {
   "cell_type": "code",
   "execution_count": 13,
   "metadata": {},
   "outputs": [],
   "source": [
    "path = '/mnt/d/Documents/Studies/DataScience_MS/Courses/W266_Natural_Language_Processing/Project/w266-final-project/data/raw/'\n",
    "\n",
    "path_instant_videos = path + 'reviews_Amazon_Instant_Video.json.gz'\n",
    "path_toys_and_games = path + 'reviews_Toys_and_Games.json.gz'"
   ]
  },
  {
   "cell_type": "markdown",
   "metadata": {},
   "source": [
    "### Parsing function"
   ]
  },
  {
   "cell_type": "code",
   "execution_count": 14,
   "metadata": {},
   "outputs": [],
   "source": [
    "def parse(path): \n",
    "    g = gzip.open(path, 'rb') \n",
    "    for l in g: \n",
    "        yield eval(l) "
   ]
  },
  {
   "cell_type": "markdown",
   "metadata": {},
   "source": [
    "### Function to read into dataframe"
   ]
  },
  {
   "cell_type": "code",
   "execution_count": 15,
   "metadata": {},
   "outputs": [],
   "source": [
    "def getDF(path): \n",
    "    i = 0 \n",
    "    df = {} \n",
    "    for d in parse(path): \n",
    "        df[i] = d \n",
    "        i += 1\n",
    "    return pd.DataFrame.from_dict(df, orient='index').rename(columns={'reviewTime': 'reviewDate'})"
   ]
  },
  {
   "cell_type": "markdown",
   "metadata": {},
   "source": [
    "### Read into dataframe"
   ]
  },
  {
   "cell_type": "markdown",
   "metadata": {},
   "source": [
    "#### Read Instant Video reviews into dataframe"
   ]
  },
  {
   "cell_type": "code",
   "execution_count": 16,
   "metadata": {},
   "outputs": [
    {
     "data": {
      "text/html": [
       "<div>\n",
       "<style scoped>\n",
       "    .dataframe tbody tr th:only-of-type {\n",
       "        vertical-align: middle;\n",
       "    }\n",
       "\n",
       "    .dataframe tbody tr th {\n",
       "        vertical-align: top;\n",
       "    }\n",
       "\n",
       "    .dataframe thead th {\n",
       "        text-align: right;\n",
       "    }\n",
       "</style>\n",
       "<table border=\"1\" class=\"dataframe\">\n",
       "  <thead>\n",
       "    <tr style=\"text-align: right;\">\n",
       "      <th></th>\n",
       "      <th>reviewerID</th>\n",
       "      <th>asin</th>\n",
       "      <th>reviewerName</th>\n",
       "      <th>helpful</th>\n",
       "      <th>reviewText</th>\n",
       "      <th>overall</th>\n",
       "      <th>summary</th>\n",
       "      <th>unixReviewTime</th>\n",
       "      <th>reviewDate</th>\n",
       "    </tr>\n",
       "  </thead>\n",
       "  <tbody>\n",
       "    <tr>\n",
       "      <th>0</th>\n",
       "      <td>A1EE2E3N7PW666</td>\n",
       "      <td>B000GFDAUG</td>\n",
       "      <td>Aaron L. Allen \"Orgazmo1009\"</td>\n",
       "      <td>[0, 0]</td>\n",
       "      <td>CA Lewsi' review should be removed. he's revie...</td>\n",
       "      <td>5.0</td>\n",
       "      <td>Stupid</td>\n",
       "      <td>1202256000</td>\n",
       "      <td>02 6, 2008</td>\n",
       "    </tr>\n",
       "    <tr>\n",
       "      <th>1</th>\n",
       "      <td>AGZ8SM1BGK3CK</td>\n",
       "      <td>B000GFDAUG</td>\n",
       "      <td>Mind's Clay</td>\n",
       "      <td>[1, 1]</td>\n",
       "      <td>I truly love the humor of South Park. It's soc...</td>\n",
       "      <td>5.0</td>\n",
       "      <td>\"More Moist Than Should Be\" Humor</td>\n",
       "      <td>1198195200</td>\n",
       "      <td>12 21, 2007</td>\n",
       "    </tr>\n",
       "    <tr>\n",
       "      <th>2</th>\n",
       "      <td>A2VHZ21245KBT7</td>\n",
       "      <td>B000GIOPK2</td>\n",
       "      <td>202_d \"202_d\"</td>\n",
       "      <td>[0, 0]</td>\n",
       "      <td>This is a cartoon series pitting eight cartoon...</td>\n",
       "      <td>4.0</td>\n",
       "      <td>Overall, really like the series.</td>\n",
       "      <td>1215388800</td>\n",
       "      <td>07 7, 2008</td>\n",
       "    </tr>\n",
       "    <tr>\n",
       "      <th>3</th>\n",
       "      <td>ACX8YW2D5EGP6</td>\n",
       "      <td>B000GIOPK2</td>\n",
       "      <td>Alexandra Stephens \"dreamgirl0922\"</td>\n",
       "      <td>[11, 13]</td>\n",
       "      <td>Yeah drawn together is great when it comes to ...</td>\n",
       "      <td>4.0</td>\n",
       "      <td>Crude cartoon humor...Check</td>\n",
       "      <td>1185840000</td>\n",
       "      <td>07 31, 2007</td>\n",
       "    </tr>\n",
       "    <tr>\n",
       "      <th>4</th>\n",
       "      <td>A9RNMO9MUSMTJ</td>\n",
       "      <td>B000GIOPK2</td>\n",
       "      <td>Andre Villemaire</td>\n",
       "      <td>[0, 2]</td>\n",
       "      <td>Seems like today's generation is getting reven...</td>\n",
       "      <td>2.0</td>\n",
       "      <td>not bad...</td>\n",
       "      <td>1281052800</td>\n",
       "      <td>08 6, 2010</td>\n",
       "    </tr>\n",
       "  </tbody>\n",
       "</table>\n",
       "</div>"
      ],
      "text/plain": [
       "       reviewerID        asin                        reviewerName   helpful  \\\n",
       "0  A1EE2E3N7PW666  B000GFDAUG        Aaron L. Allen \"Orgazmo1009\"    [0, 0]   \n",
       "1   AGZ8SM1BGK3CK  B000GFDAUG                         Mind's Clay    [1, 1]   \n",
       "2  A2VHZ21245KBT7  B000GIOPK2                       202_d \"202_d\"    [0, 0]   \n",
       "3   ACX8YW2D5EGP6  B000GIOPK2  Alexandra Stephens \"dreamgirl0922\"  [11, 13]   \n",
       "4   A9RNMO9MUSMTJ  B000GIOPK2                    Andre Villemaire    [0, 2]   \n",
       "\n",
       "                                          reviewText  overall  \\\n",
       "0  CA Lewsi' review should be removed. he's revie...      5.0   \n",
       "1  I truly love the humor of South Park. It's soc...      5.0   \n",
       "2  This is a cartoon series pitting eight cartoon...      4.0   \n",
       "3  Yeah drawn together is great when it comes to ...      4.0   \n",
       "4  Seems like today's generation is getting reven...      2.0   \n",
       "\n",
       "                             summary  unixReviewTime   reviewDate  \n",
       "0                             Stupid      1202256000   02 6, 2008  \n",
       "1  \"More Moist Than Should Be\" Humor      1198195200  12 21, 2007  \n",
       "2   Overall, really like the series.      1215388800   07 7, 2008  \n",
       "3        Crude cartoon humor...Check      1185840000  07 31, 2007  \n",
       "4                         not bad...      1281052800   08 6, 2010  "
      ]
     },
     "execution_count": 16,
     "metadata": {},
     "output_type": "execute_result"
    }
   ],
   "source": [
    "df_instant_videos = getDF(path_instant_videos)\n",
    "df_instant_videos.head()"
   ]
  },
  {
   "cell_type": "markdown",
   "metadata": {},
   "source": [
    "#### Read Toys and Games reviews into dataframe"
   ]
  },
  {
   "cell_type": "code",
   "execution_count": 17,
   "metadata": {},
   "outputs": [
    {
     "data": {
      "text/html": [
       "<div>\n",
       "<style scoped>\n",
       "    .dataframe tbody tr th:only-of-type {\n",
       "        vertical-align: middle;\n",
       "    }\n",
       "\n",
       "    .dataframe tbody tr th {\n",
       "        vertical-align: top;\n",
       "    }\n",
       "\n",
       "    .dataframe thead th {\n",
       "        text-align: right;\n",
       "    }\n",
       "</style>\n",
       "<table border=\"1\" class=\"dataframe\">\n",
       "  <thead>\n",
       "    <tr style=\"text-align: right;\">\n",
       "      <th></th>\n",
       "      <th>reviewerID</th>\n",
       "      <th>asin</th>\n",
       "      <th>reviewerName</th>\n",
       "      <th>helpful</th>\n",
       "      <th>reviewText</th>\n",
       "      <th>overall</th>\n",
       "      <th>summary</th>\n",
       "      <th>unixReviewTime</th>\n",
       "      <th>reviewDate</th>\n",
       "    </tr>\n",
       "  </thead>\n",
       "  <tbody>\n",
       "    <tr>\n",
       "      <th>0</th>\n",
       "      <td>AMEVO2LY6VEJA</td>\n",
       "      <td>0000191639</td>\n",
       "      <td>Nicole Soeder</td>\n",
       "      <td>[0, 0]</td>\n",
       "      <td>Great product, thank you! Our son loved the pu...</td>\n",
       "      <td>5.0</td>\n",
       "      <td>Puzzles</td>\n",
       "      <td>1388016000</td>\n",
       "      <td>12 26, 2013</td>\n",
       "    </tr>\n",
       "    <tr>\n",
       "      <th>1</th>\n",
       "      <td>A3C9CSW3TJITGT</td>\n",
       "      <td>0005069491</td>\n",
       "      <td>Renee</td>\n",
       "      <td>[0, 0]</td>\n",
       "      <td>I love these felt nursery rhyme characters and...</td>\n",
       "      <td>4.0</td>\n",
       "      <td>Charming characters but busy work required</td>\n",
       "      <td>1377561600</td>\n",
       "      <td>08 27, 2013</td>\n",
       "    </tr>\n",
       "    <tr>\n",
       "      <th>2</th>\n",
       "      <td>A31POTIYCKSZ9G</td>\n",
       "      <td>0076561046</td>\n",
       "      <td>So CA Teacher</td>\n",
       "      <td>[0, 0]</td>\n",
       "      <td>I see no directions for its use. Therefore I h...</td>\n",
       "      <td>3.0</td>\n",
       "      <td>No directions for use...</td>\n",
       "      <td>1404864000</td>\n",
       "      <td>07 9, 2014</td>\n",
       "    </tr>\n",
       "    <tr>\n",
       "      <th>3</th>\n",
       "      <td>A2GGHHME9B6W4O</td>\n",
       "      <td>0131358936</td>\n",
       "      <td>Dalilah G.</td>\n",
       "      <td>[0, 0]</td>\n",
       "      <td>This is a great tool for any teacher using the...</td>\n",
       "      <td>5.0</td>\n",
       "      <td>Great CD-ROM</td>\n",
       "      <td>1382400000</td>\n",
       "      <td>10 22, 2013</td>\n",
       "    </tr>\n",
       "    <tr>\n",
       "      <th>4</th>\n",
       "      <td>A1FSLDH43ORWZP</td>\n",
       "      <td>0133642984</td>\n",
       "      <td>Dayna English</td>\n",
       "      <td>[0, 0]</td>\n",
       "      <td>Although not as streamlined as the Algebra I m...</td>\n",
       "      <td>5.0</td>\n",
       "      <td>Algebra II -- presentation materials</td>\n",
       "      <td>1374278400</td>\n",
       "      <td>07 20, 2013</td>\n",
       "    </tr>\n",
       "  </tbody>\n",
       "</table>\n",
       "</div>"
      ],
      "text/plain": [
       "       reviewerID        asin   reviewerName helpful  \\\n",
       "0   AMEVO2LY6VEJA  0000191639  Nicole Soeder  [0, 0]   \n",
       "1  A3C9CSW3TJITGT  0005069491          Renee  [0, 0]   \n",
       "2  A31POTIYCKSZ9G  0076561046  So CA Teacher  [0, 0]   \n",
       "3  A2GGHHME9B6W4O  0131358936     Dalilah G.  [0, 0]   \n",
       "4  A1FSLDH43ORWZP  0133642984  Dayna English  [0, 0]   \n",
       "\n",
       "                                          reviewText  overall  \\\n",
       "0  Great product, thank you! Our son loved the pu...      5.0   \n",
       "1  I love these felt nursery rhyme characters and...      4.0   \n",
       "2  I see no directions for its use. Therefore I h...      3.0   \n",
       "3  This is a great tool for any teacher using the...      5.0   \n",
       "4  Although not as streamlined as the Algebra I m...      5.0   \n",
       "\n",
       "                                      summary  unixReviewTime   reviewDate  \n",
       "0                                     Puzzles      1388016000  12 26, 2013  \n",
       "1  Charming characters but busy work required      1377561600  08 27, 2013  \n",
       "2                    No directions for use...      1404864000   07 9, 2014  \n",
       "3                                Great CD-ROM      1382400000  10 22, 2013  \n",
       "4        Algebra II -- presentation materials      1374278400  07 20, 2013  "
      ]
     },
     "execution_count": 17,
     "metadata": {},
     "output_type": "execute_result"
    }
   ],
   "source": [
    "df_toys_and_games = getDF(path_toys_and_games)\n",
    "df_toys_and_games.head()"
   ]
  },
  {
   "cell_type": "markdown",
   "metadata": {},
   "source": [
    "# Tokenization"
   ]
  },
  {
   "cell_type": "code",
   "execution_count": 20,
   "metadata": {},
   "outputs": [],
   "source": [
    "df_instant_videos['reviewTextTokens'] = df_instant_videos['reviewText'].apply(nltk.word_tokenize)\n",
    "df_instant_videos['summaryTokens'] = df_instant_videos['summary'].apply(nltk.word_tokenize)"
   ]
  },
  {
   "cell_type": "code",
   "execution_count": 21,
   "metadata": {},
   "outputs": [
    {
     "data": {
      "text/html": [
       "<div>\n",
       "<style scoped>\n",
       "    .dataframe tbody tr th:only-of-type {\n",
       "        vertical-align: middle;\n",
       "    }\n",
       "\n",
       "    .dataframe tbody tr th {\n",
       "        vertical-align: top;\n",
       "    }\n",
       "\n",
       "    .dataframe thead th {\n",
       "        text-align: right;\n",
       "    }\n",
       "</style>\n",
       "<table border=\"1\" class=\"dataframe\">\n",
       "  <thead>\n",
       "    <tr style=\"text-align: right;\">\n",
       "      <th></th>\n",
       "      <th>reviewerID</th>\n",
       "      <th>asin</th>\n",
       "      <th>reviewerName</th>\n",
       "      <th>helpful</th>\n",
       "      <th>reviewText</th>\n",
       "      <th>overall</th>\n",
       "      <th>summary</th>\n",
       "      <th>unixReviewTime</th>\n",
       "      <th>reviewDate</th>\n",
       "      <th>reviewTextTokens</th>\n",
       "      <th>summaryTokens</th>\n",
       "    </tr>\n",
       "  </thead>\n",
       "  <tbody>\n",
       "    <tr>\n",
       "      <th>0</th>\n",
       "      <td>A1EE2E3N7PW666</td>\n",
       "      <td>B000GFDAUG</td>\n",
       "      <td>Aaron L. Allen \"Orgazmo1009\"</td>\n",
       "      <td>[0, 0]</td>\n",
       "      <td>CA Lewsi' review should be removed. he's revie...</td>\n",
       "      <td>5.0</td>\n",
       "      <td>Stupid</td>\n",
       "      <td>1202256000</td>\n",
       "      <td>02 6, 2008</td>\n",
       "      <td>[CA, Lewsi, ', review, should, be, removed, .,...</td>\n",
       "      <td>[Stupid]</td>\n",
       "    </tr>\n",
       "    <tr>\n",
       "      <th>1</th>\n",
       "      <td>AGZ8SM1BGK3CK</td>\n",
       "      <td>B000GFDAUG</td>\n",
       "      <td>Mind's Clay</td>\n",
       "      <td>[1, 1]</td>\n",
       "      <td>I truly love the humor of South Park. It's soc...</td>\n",
       "      <td>5.0</td>\n",
       "      <td>\"More Moist Than Should Be\" Humor</td>\n",
       "      <td>1198195200</td>\n",
       "      <td>12 21, 2007</td>\n",
       "      <td>[I, truly, love, the, humor, of, South, Park, ...</td>\n",
       "      <td>[``, More, Moist, Than, Should, Be, '', Humor]</td>\n",
       "    </tr>\n",
       "    <tr>\n",
       "      <th>2</th>\n",
       "      <td>A2VHZ21245KBT7</td>\n",
       "      <td>B000GIOPK2</td>\n",
       "      <td>202_d \"202_d\"</td>\n",
       "      <td>[0, 0]</td>\n",
       "      <td>This is a cartoon series pitting eight cartoon...</td>\n",
       "      <td>4.0</td>\n",
       "      <td>Overall, really like the series.</td>\n",
       "      <td>1215388800</td>\n",
       "      <td>07 7, 2008</td>\n",
       "      <td>[This, is, a, cartoon, series, pitting, eight,...</td>\n",
       "      <td>[Overall, ,, really, like, the, series, .]</td>\n",
       "    </tr>\n",
       "    <tr>\n",
       "      <th>3</th>\n",
       "      <td>ACX8YW2D5EGP6</td>\n",
       "      <td>B000GIOPK2</td>\n",
       "      <td>Alexandra Stephens \"dreamgirl0922\"</td>\n",
       "      <td>[11, 13]</td>\n",
       "      <td>Yeah drawn together is great when it comes to ...</td>\n",
       "      <td>4.0</td>\n",
       "      <td>Crude cartoon humor...Check</td>\n",
       "      <td>1185840000</td>\n",
       "      <td>07 31, 2007</td>\n",
       "      <td>[Yeah, drawn, together, is, great, when, it, c...</td>\n",
       "      <td>[Crude, cartoon, humor, ..., Check]</td>\n",
       "    </tr>\n",
       "    <tr>\n",
       "      <th>4</th>\n",
       "      <td>A9RNMO9MUSMTJ</td>\n",
       "      <td>B000GIOPK2</td>\n",
       "      <td>Andre Villemaire</td>\n",
       "      <td>[0, 2]</td>\n",
       "      <td>Seems like today's generation is getting reven...</td>\n",
       "      <td>2.0</td>\n",
       "      <td>not bad...</td>\n",
       "      <td>1281052800</td>\n",
       "      <td>08 6, 2010</td>\n",
       "      <td>[Seems, like, today, 's, generation, is, getti...</td>\n",
       "      <td>[not, bad, ...]</td>\n",
       "    </tr>\n",
       "  </tbody>\n",
       "</table>\n",
       "</div>"
      ],
      "text/plain": [
       "       reviewerID        asin                        reviewerName   helpful  \\\n",
       "0  A1EE2E3N7PW666  B000GFDAUG        Aaron L. Allen \"Orgazmo1009\"    [0, 0]   \n",
       "1   AGZ8SM1BGK3CK  B000GFDAUG                         Mind's Clay    [1, 1]   \n",
       "2  A2VHZ21245KBT7  B000GIOPK2                       202_d \"202_d\"    [0, 0]   \n",
       "3   ACX8YW2D5EGP6  B000GIOPK2  Alexandra Stephens \"dreamgirl0922\"  [11, 13]   \n",
       "4   A9RNMO9MUSMTJ  B000GIOPK2                    Andre Villemaire    [0, 2]   \n",
       "\n",
       "                                          reviewText  overall  \\\n",
       "0  CA Lewsi' review should be removed. he's revie...      5.0   \n",
       "1  I truly love the humor of South Park. It's soc...      5.0   \n",
       "2  This is a cartoon series pitting eight cartoon...      4.0   \n",
       "3  Yeah drawn together is great when it comes to ...      4.0   \n",
       "4  Seems like today's generation is getting reven...      2.0   \n",
       "\n",
       "                             summary  unixReviewTime   reviewDate  \\\n",
       "0                             Stupid      1202256000   02 6, 2008   \n",
       "1  \"More Moist Than Should Be\" Humor      1198195200  12 21, 2007   \n",
       "2   Overall, really like the series.      1215388800   07 7, 2008   \n",
       "3        Crude cartoon humor...Check      1185840000  07 31, 2007   \n",
       "4                         not bad...      1281052800   08 6, 2010   \n",
       "\n",
       "                                    reviewTextTokens  \\\n",
       "0  [CA, Lewsi, ', review, should, be, removed, .,...   \n",
       "1  [I, truly, love, the, humor, of, South, Park, ...   \n",
       "2  [This, is, a, cartoon, series, pitting, eight,...   \n",
       "3  [Yeah, drawn, together, is, great, when, it, c...   \n",
       "4  [Seems, like, today, 's, generation, is, getti...   \n",
       "\n",
       "                                    summaryTokens  \n",
       "0                                        [Stupid]  \n",
       "1  [``, More, Moist, Than, Should, Be, '', Humor]  \n",
       "2      [Overall, ,, really, like, the, series, .]  \n",
       "3             [Crude, cartoon, humor, ..., Check]  \n",
       "4                                 [not, bad, ...]  "
      ]
     },
     "execution_count": 21,
     "metadata": {},
     "output_type": "execute_result"
    }
   ],
   "source": [
    "df_instant_videos.head()"
   ]
  },
  {
   "cell_type": "code",
   "execution_count": 22,
   "metadata": {},
   "outputs": [],
   "source": [
    "#Takes very long!\n",
    "#df_toys_and_games['reviewTextTokens'] = df_toys_and_games['reviewText'].apply(nltk.word_tokenize)\n",
    "#df_toys_and_games['summaryTokens'] = df_toys_and_games['summary'].apply(nltk.word_tokenize)"
   ]
  },
  {
   "cell_type": "code",
   "execution_count": 23,
   "metadata": {},
   "outputs": [],
   "source": [
    "#df_toys_and_games.head()"
   ]
  },
  {
   "cell_type": "markdown",
   "metadata": {},
   "source": [
    "# EDA"
   ]
  },
  {
   "cell_type": "code",
   "execution_count": 18,
   "metadata": {},
   "outputs": [],
   "source": [
    "dfs = [df_instant_videos, df_toys_and_games]\n",
    "df_names = ['Instant Videos', 'Toys and Games']"
   ]
  },
  {
   "cell_type": "code",
   "execution_count": 42,
   "metadata": {
    "scrolled": false
   },
   "outputs": [
    {
     "name": "stdout",
     "output_type": "stream",
     "text": [
      "------------------------------------------------\n",
      "| Exploratory Data Analysis for Instant Videos |\n",
      "------------------------------------------------\n"
     ]
    },
    {
     "data": {
      "image/png": "[encoded data removed]",
      "text/plain": [
       "<matplotlib.figure.Figure at 0x7ff1ddf4a940>"
      ]
     },
     "metadata": {},
     "output_type": "display_data"
    },
    {
     "name": "stdout",
     "output_type": "stream",
     "text": [
      "\n",
      "Descriptive Statistics\n",
      "\n",
      "Overall Ratings:\n",
      "\n",
      "count    583933.000000\n",
      "mean          4.316185\n",
      "std           1.163706\n",
      "min           1.000000\n",
      "25%           4.000000\n",
      "50%           5.000000\n",
      "75%           5.000000\n",
      "max           5.000000\n",
      "Name: overall, dtype: float64\n",
      "\n",
      "Number of reviews per product:\n",
      "\n",
      "count    23965.000000\n",
      "mean        24.366076\n",
      "std        205.832552\n",
      "min          1.000000\n",
      "25%          1.000000\n",
      "50%          3.000000\n",
      "75%          8.000000\n",
      "max      12633.000000\n",
      "Name: overall, dtype: float64\n",
      "\n",
      "Number of reviews per reviewer:\n",
      "\n",
      "count    426922.000000\n",
      "mean          1.367774\n",
      "std           1.500764\n",
      "min           1.000000\n",
      "25%           1.000000\n",
      "50%           1.000000\n",
      "75%           1.000000\n",
      "max         277.000000\n",
      "Name: overall, dtype: float64\n",
      "\n",
      "Review length:\n",
      "\n",
      "count    583933.000000\n",
      "mean         61.577291\n",
      "std          92.826554\n",
      "min           0.000000\n",
      "25%          26.000000\n",
      "50%          35.000000\n",
      "75%          60.000000\n",
      "max        6177.000000\n",
      "Name: reviewTextTokens, dtype: float64\n",
      "\n",
      "Number of reviews: 583933\n",
      "Number of unique reviewers: 426922\n",
      "Number of unique products:  23965\n",
      "\n",
      "\n",
      "\n",
      "------------------------------------------------\n",
      "| Exploratory Data Analysis for Toys and Games |\n",
      "------------------------------------------------\n"
     ]
    },
    {
     "data": {
      "image/png": "[encoded data removed]",
      "text/plain": [
       "<matplotlib.figure.Figure at 0x7ff1dddaaba8>"
      ]
     },
     "metadata": {},
     "output_type": "display_data"
    },
    {
     "name": "stdout",
     "output_type": "stream",
     "text": [
      "\n",
      "Descriptive Statistics\n",
      "\n",
      "Overall Ratings:\n",
      "\n",
      "count    2.252771e+06\n",
      "mean     4.149873e+00\n",
      "std      1.279080e+00\n",
      "min      1.000000e+00\n",
      "25%      4.000000e+00\n",
      "50%      5.000000e+00\n",
      "75%      5.000000e+00\n",
      "max      5.000000e+00\n",
      "Name: overall, dtype: float64\n",
      "\n",
      "Number of reviews per product:\n",
      "\n",
      "count    327698.000000\n",
      "mean          6.874534\n",
      "std          32.716221\n",
      "min           1.000000\n",
      "25%           1.000000\n",
      "50%           2.000000\n",
      "75%           4.000000\n",
      "max       10281.000000\n",
      "Name: overall, dtype: float64\n",
      "\n",
      "Number of reviews per reviewer:\n",
      "\n",
      "count    1.342911e+06\n",
      "mean     1.677528e+00\n",
      "std      3.025369e+00\n",
      "min      1.000000e+00\n",
      "25%      1.000000e+00\n",
      "50%      1.000000e+00\n",
      "75%      2.000000e+00\n",
      "max      1.528000e+03\n",
      "Name: overall, dtype: float64\n",
      "\n",
      "No tokenization available for Toys and Games\n",
      "\n",
      "Number of reviews: 2252771\n",
      "Number of unique reviewers: 1342911\n",
      "Number of unique products:  327698\n",
      "\n",
      "\n",
      "\n"
     ]
    }
   ],
   "source": [
    "for i, df in enumerate(dfs):    \n",
    "    \n",
    "    print('-' * (len(df_names[i]) + 34) )\n",
    "    print('| ' + 'Exploratory Data Analysis for', df_names[i], '|')\n",
    "    print('-' * (len(df_names[i]) + 34) )\n",
    "    \n",
    "    plt.figure(figsize = (15,5))\n",
    "    plt.title('Overall Ratings for ' + df_names[i])\n",
    "    sns.countplot(df.overall)\n",
    "    plt.show()\n",
    "    \n",
    "    print('\\nDescriptive Statistics\\n')\n",
    "    \n",
    "    print('Overall Ratings:\\n')\n",
    "    print(df.overall.describe())\n",
    "    \n",
    "    print('\\nNumber of reviews per product:\\n')\n",
    "    print(df.groupby(['asin'], as_index = False).agg({'overall':'count'}).overall.describe())\n",
    "    \n",
    "    print('\\nNumber of reviews per reviewer:\\n')\n",
    "    print(df.groupby(['reviewerID'], as_index = False).agg({'overall':'count'}).overall.describe())\n",
    "\n",
    "    # Descriptive Statistics only when tokenization exists...\n",
    "    try:\n",
    "        df.reviewTextTokens[0]\n",
    "        print('\\nReview length:\\n')\n",
    "        print(df.reviewTextTokens.apply(len).describe())\n",
    "    except:\n",
    "        plt.close()\n",
    "        print('\\nNo tokenization available for ' + df_names[i])\n",
    "    \n",
    "    print('')\n",
    "    print('Number of reviews:', len(df))\n",
    "    print('Number of unique reviewers:', len(df.reviewerID.unique()))\n",
    "    print('Number of unique products: ', len(df.asin.unique()))\n",
    "\n",
    "    print('\\n\\n')"
   ]
  },
  {
   "cell_type": "code",
   "execution_count": null,
   "metadata": {},
   "outputs": [],
   "source": []
  },
  {
   "cell_type": "code",
   "execution_count": null,
   "metadata": {},
   "outputs": [],
   "source": []
  },
  {
   "cell_type": "code",
   "execution_count": null,
   "metadata": {},
   "outputs": [],
   "source": []
  },
  {
   "cell_type": "code",
   "execution_count": null,
   "metadata": {},
   "outputs": [],
   "source": []
  }
 ],
 "metadata": {
  "kernelspec": {
   "display_name": "Python 3",
   "language": "python",
   "name": "python3"
  },
  "language_info": {
   "codemirror_mode": {
    "name": "ipython",
    "version": 3
   },
   "file_extension": ".py",
   "mimetype": "text/x-python",
   "name": "python",
   "nbconvert_exporter": "python",
   "pygments_lexer": "ipython3",
   "version": "3.6.4"
  }
 },
 "nbformat": 4,
 "nbformat_minor": 2
}
