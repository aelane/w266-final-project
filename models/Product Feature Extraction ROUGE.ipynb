{
 "cells": [
  {
   "cell_type": "code",
   "execution_count": 5,
   "metadata": {},
   "outputs": [],
   "source": [
    "import pandas as pd \n",
    "import matplotlib.pyplot as plt\n",
    "import os\n",
    "\n",
    "from rouge import Rouge #git clone https://github.com/pltrdy/rouge\n",
    "rouge = Rouge()"
   ]
  },
  {
   "cell_type": "code",
   "execution_count": 1,
   "metadata": {},
   "outputs": [],
   "source": [
    "path = '/home/amkabatznick/w266-final-project/data/processed/amazon/Sports_Outdoors/txt/'"
   ]
  },
  {
   "cell_type": "code",
   "execution_count": 6,
   "metadata": {},
   "outputs": [],
   "source": [
    "#Creates Empty Dataframe\n",
    "sentence_data = pd.DataFrame()\n",
    "\n",
    "#Loops through all files in the path\n",
    "for filename in os.listdir(path):\n",
    "    f = open(path+filename, 'r')\n",
    "    content = f.read()\n",
    "    #For each file split out the summary setences from the rest of the document\n",
    "    summary_sentences = content.split('@highlight')\n",
    "    #Split the summary sentences\n",
    "    sent_1, sent_2, sent_3 = [sent.replace('\\n\\n','') for sent in summary_sentences[1:]]\n",
    "    #Run ROUGUE Analysis on the Various Summary Setences\n",
    "    r1 = rouge.get_scores(sent_1,sent_2)[0]['rouge-l']['f']\n",
    "    r2 = rouge.get_scores(sent_1,sent_3)[0]['rouge-l']['f']\n",
    "    r3 = rouge.get_scores(sent_2,sent_3)[0]['rouge-l']['f']\n",
    "    \n",
    "    #Adds this information to the dataframe\n",
    "    sentence_data = sentence_data.append(pd.DataFrame(data=[[filename,sent_1,sent_2,r1],\n",
    "                                                            [filename,sent_1,sent_3,r2],\n",
    "                                                            [filename,sent_2,sent_3,r3]],\n",
    "                                                      columns=['file_name','sentence_1','sentence_2','f_score']),\n",
    "                                        ignore_index=True)"
   ]
  },
  {
   "cell_type": "code",
   "execution_count": 7,
   "metadata": {},
   "outputs": [
    {
     "data": {
      "image/png": "[encoded data removed]",
      "text/plain": [
       "<Figure size 432x288 with 1 Axes>"
      ]
     },
     "metadata": {},
     "output_type": "display_data"
    }
   ],
   "source": [
    "ax = sentence_data.f_score.hist(bins=50)\n",
    "_ = ax.set_xlabel('F-Score')\n",
    "_ = ax.set_ylabel('Occurrences')\n",
    "_ = ax.set_title('Distribution of ROUGE-L F-Scores among Sentence Summary')"
   ]
  },
  {
   "cell_type": "code",
   "execution_count": null,
   "metadata": {},
   "outputs": [],
   "source": []
  }
 ],
 "metadata": {
  "kernelspec": {
   "display_name": "Python 3",
   "language": "python",
   "name": "python3"
  },
  "language_info": {
   "codemirror_mode": {
    "name": "ipython",
    "version": 3
   },
   "file_extension": ".py",
   "mimetype": "text/x-python",
   "name": "python",
   "nbconvert_exporter": "python",
   "pygments_lexer": "ipython3",
   "version": "3.6.5"
  }
 },
 "nbformat": 4,
 "nbformat_minor": 2
}
